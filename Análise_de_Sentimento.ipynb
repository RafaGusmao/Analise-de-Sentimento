{
  "nbformat": 4,
  "nbformat_minor": 0,
  "metadata": {
    "colab": {
      "provenance": [],
      "authorship_tag": "ABX9TyMuSfmTI5XLGqnQCuIrsuHY",
      "include_colab_link": true
    },
    "kernelspec": {
      "name": "python3",
      "display_name": "Python 3"
    },
    "language_info": {
      "name": "python"
    }
  },
  "cells": [
    {
      "cell_type": "markdown",
      "metadata": {
        "id": "view-in-github",
        "colab_type": "text"
      },
      "source": [
        "<a href=\"https://colab.research.google.com/github/RafaGusmao/Analise-de-Sentimento/blob/main/An%C3%A1lise_de_Sentimento.ipynb\" target=\"_parent\"><img src=\"https://colab.research.google.com/assets/colab-badge.svg\" alt=\"Open In Colab\"/></a>"
      ]
    },
    {
      "cell_type": "code",
      "source": [
        "\n",
        "\n",
        "# Agora que sabemos onde os arquivos estão, podemos carregar os dados\n",
        "train_file = '/content/train.txt.txt'\n",
        "test_file = '/content/test.txt.txt'\n",
        "\n",
        "# Função para carregar os dados\n",
        "def load_data(file_path):\n",
        "    with open(file_path, 'r', encoding='utf-8') as f:\n",
        "        lines = f.readlines()\n",
        "\n",
        "    reviews = []\n",
        "    labels = []\n",
        "\n",
        "    for line in lines:\n",
        "        label, review = line.split(' ', 1)  # Separando o rótulo da avaliação\n",
        "        labels.append(label.strip())  # Retirando os espaços extras e o __label__\n",
        "        reviews.append(review.strip())  # Avaliação limpa\n",
        "\n",
        "    return reviews, labels\n",
        "\n",
        "# Carregar os dados de treino e teste\n",
        "train_reviews, train_labels = load_data(train_file)\n",
        "test_reviews, test_labels = load_data(test_file)\n",
        "\n",
        "# Exibir as primeiras linhas para garantir que está correto\n",
        "print(train_reviews[:5])\n",
        "print(train_labels[:5])\n"
      ],
      "metadata": {
        "colab": {
          "base_uri": "https://localhost:8080/"
        },
        "id": "3dKHQgbscQqZ",
        "outputId": "efbb671a-9239-47dc-bc73-082c2e50db5f"
      },
      "execution_count": 2,
      "outputs": [
        {
          "output_type": "stream",
          "name": "stdout",
          "text": [
            "['Stuning even for the non-gamer: This sound track was beautiful! It paints the senery in your mind so well I would recomend it even to people who hate vid. game music! I have played the game Chrono Cross but out of all of the games I have ever played it has the best music! It backs away from crude keyboarding and takes a fresher step with grate guitars and soulful orchestras. It would impress anyone who cares to listen! ^_^', \"The best soundtrack ever to anything.: I'm reading a lot of reviews saying that this is the best 'game soundtrack' and I figured that I'd write a review to disagree a bit. This in my opinino is Yasunori Mitsuda's ultimate masterpiece. The music is timeless and I'm been listening to it for years now and its beauty simply refuses to fade.The price tag on this is pretty staggering I must say, but if you are going to buy any cd for this much money, this is the only one that I feel would be worth every penny.\", 'Amazing!: This soundtrack is my favorite music of all time, hands down. The intense sadness of \"Prisoners of Fate\" (which means all the more if you\\'ve played the game) and the hope in \"A Distant Promise\" and \"Girl who Stole the Star\" have been an important inspiration to me personally throughout my teen years. The higher energy tracks like \"Chrono Cross ~ Time\\'s Scar~\", \"Time of the Dreamwatch\", and \"Chronomantique\" (indefinably remeniscent of Chrono Trigger) are all absolutely superb as well.This soundtrack is amazing music, probably the best of this composer\\'s work (I haven\\'t heard the Xenogears soundtrack, so I can\\'t say for sure), and even if you\\'ve never played the game, it would be worth twice the price to buy it.I wish I could give it 6 stars.', \"Excellent Soundtrack: I truly like this soundtrack and I enjoy video game music. I have played this game and most of the music on here I enjoy and it's truly relaxing and peaceful.On disk one. my favorites are Scars Of Time, Between Life and Death, Forest Of Illusion, Fortress of Ancient Dragons, Lost Fragment, and Drowned Valley.Disk Two: The Draggons, Galdorb - Home, Chronomantique, Prisoners of Fate, Gale, and my girlfriend likes ZelbessDisk Three: The best of the three. Garden Of God, Chronopolis, Fates, Jellyfish sea, Burning Orphange, Dragon's Prayer, Tower Of Stars, Dragon God, and Radical Dreamers - Unstealable Jewel.Overall, this is a excellent soundtrack and should be brought by those that like video game music.Xander Cross\", \"Remember, Pull Your Jaw Off The Floor After Hearing it: If you've played the game, you know how divine the music is! Every single song tells a story of the game, it's that good! The greatest songs are without a doubt, Chrono Cross: Time's Scar, Magical Dreamers: The Wind, The Stars, and the Sea and Radical Dreamers: Unstolen Jewel. (Translation varies) This music is perfect if you ask me, the best it can be. Yasunori Mitsuda just poured his heart on and wrote it down on paper.\"]\n",
            "['__label__2', '__label__2', '__label__2', '__label__2', '__label__2']\n"
          ]
        }
      ]
    },
    {
      "cell_type": "code",
      "source": [
        "import nltk\n",
        "from nltk.tokenize import word_tokenize\n",
        "from nltk.corpus import stopwords\n",
        "from nltk.stem import WordNetLemmatizer\n",
        "from multiprocessing import Pool\n",
        "\n",
        "# Baixar os recursos necessários apenas uma vez\n",
        "nltk.download('punkt')\n",
        "nltk.download('stopwords')\n",
        "nltk.download('wordnet')\n",
        "nltk.download('punkt_tab') # Download the missing punkt_tab data package\n",
        "\n",
        "# Carregar stopwords e lematizador uma vez\n",
        "stop_words = set(stopwords.words('english'))\n",
        "lemmatizer = WordNetLemmatizer()\n",
        "\n",
        "# Função de pré-processamento\n",
        "def preprocess_text(text):\n",
        "    text = text.lower()  # Converter para minúsculas\n",
        "    tokens = word_tokenize(text)  # Tokenizar o texto\n",
        "    # Filtrar palavras que não são alfabéticas e remover stopwords\n",
        "    tokens = [word for word in tokens if word.isalpha() and word not in stop_words]\n",
        "    tokens = [lemmatizer.lemmatize(word) for word in tokens]  # Lemmatização\n",
        "    return \" \".join(tokens)\n",
        "\n",
        "# Função para aplicar o pré-processamento de forma paralelizada\n",
        "def parallel_preprocess(reviews, num_workers=4):\n",
        "    with Pool(num_workers) as pool:\n",
        "        return pool.map(preprocess_text, reviews)\n",
        "\n",
        "# Aplicar o pré-processamento nas avaliações de treino e teste\n",
        "processed_train_reviews = parallel_preprocess(train_reviews)\n",
        "processed_test_reviews = parallel_preprocess(test_reviews)\n",
        "\n",
        "# Exibir as primeiras 5 avaliações processadas\n",
        "print(processed_train_reviews[:5])"
      ],
      "metadata": {
        "colab": {
          "base_uri": "https://localhost:8080/"
        },
        "id": "NVF_KOJghhyd",
        "outputId": "0f199eef-d62a-4193-a8b4-9f9643ce28d8"
      },
      "execution_count": 3,
      "outputs": [
        {
          "output_type": "stream",
          "name": "stderr",
          "text": [
            "[nltk_data] Downloading package punkt to /root/nltk_data...\n",
            "[nltk_data]   Unzipping tokenizers/punkt.zip.\n",
            "[nltk_data] Downloading package stopwords to /root/nltk_data...\n",
            "[nltk_data]   Unzipping corpora/stopwords.zip.\n",
            "[nltk_data] Downloading package wordnet to /root/nltk_data...\n",
            "[nltk_data] Downloading package punkt_tab to /root/nltk_data...\n",
            "[nltk_data]   Unzipping tokenizers/punkt_tab.zip.\n"
          ]
        },
        {
          "output_type": "stream",
          "name": "stdout",
          "text": [
            "['stuning even sound track beautiful paint senery mind well would recomend even people hate vid game music played game chrono cross game ever played best music back away crude keyboarding take fresher step grate guitar soulful orchestra would impress anyone care listen', 'best soundtrack ever anything reading lot review saying best soundtrack figured write review disagree bit opinino yasunori mitsuda ultimate masterpiece music timeless listening year beauty simply refuse price tag pretty staggering must say going buy cd much money one feel would worth every penny', 'amazing soundtrack favorite music time hand intense sadness prisoner fate mean played game hope distant promise girl stole star important inspiration personally throughout teen year higher energy track like chrono cross time time dreamwatch chronomantique indefinably remeniscent chrono trigger absolutely superb soundtrack amazing music probably best composer work heard xenogears soundtrack ca say sure even never played game would worth twice price buy wish could give star', 'excellent soundtrack truly like soundtrack enjoy video game music played game music enjoy truly relaxing disk one favorite scar time life death forest illusion fortress ancient dragon lost fragment drowned two draggons galdorb home chronomantique prisoner fate gale girlfriend like zelbessdisk three best three garden god chronopolis fate jellyfish sea burning orphange dragon prayer tower star dragon god radical dreamer unstealable excellent soundtrack brought like video game cross', 'remember pull jaw floor hearing played game know divine music every single song tell story game good greatest song without doubt chrono cross time scar magical dreamer wind star sea radical dreamer unstolen jewel translation varies music perfect ask best yasunori mitsuda poured heart wrote paper']\n"
          ]
        }
      ]
    },
    {
      "cell_type": "code",
      "source": [
        "from sklearn.feature_extraction.text import TfidfVectorizer\n",
        "\n",
        "# Inicializar o vetorizador TF-IDF\n",
        "vectorizer = TfidfVectorizer(max_features=5000)  # Ajuste o número de features conforme necessário\n",
        "\n",
        "# Transformar as avaliações em vetores numéricos\n",
        "X_train = vectorizer.fit_transform(processed_train_reviews)\n",
        "X_test = vectorizer.transform(processed_test_reviews)\n",
        "\n",
        "print(X_train.shape)  # Mostrar as dimensões da matriz TF-IDF\n"
      ],
      "metadata": {
        "id": "k2wVxfdqhlEF",
        "colab": {
          "base_uri": "https://localhost:8080/"
        },
        "outputId": "9e136a37-adfd-4a73-e667-85a01be7e719"
      },
      "execution_count": 4,
      "outputs": [
        {
          "output_type": "stream",
          "name": "stdout",
          "text": [
            "(3600000, 5000)\n"
          ]
        }
      ]
    },
    {
      "cell_type": "code",
      "source": [
        "from sklearn.linear_model import LogisticRegression\n",
        "from sklearn.metrics import accuracy_score, classification_report\n",
        "\n",
        "# Os rótulos já estão no formato '__label__1' e '__label__2', então vamos convertê-los para 0 e 1\n",
        "y_train = [1 if label == '__label__2' else 0 for label in train_labels]  # Positivo = 1, Negativo = 0\n",
        "y_test = [1 if label == '__label__2' else 0 for label in test_labels]  # O mesmo para o conjunto de teste\n",
        "\n",
        "# Criar e treinar o modelo\n",
        "model = LogisticRegression(max_iter=1000)\n",
        "model.fit(X_train, y_train)\n",
        "\n",
        "# Fazer previsões no conjunto de teste\n",
        "y_pred = model.predict(X_test)\n",
        "\n",
        "# Avaliar o desempenho do modelo\n",
        "accuracy = accuracy_score(y_test, y_pred)\n",
        "print(f\"Acurácia do modelo: {accuracy * 100:.2f}%\")\n",
        "\n",
        "# Mostrar um relatório detalhado de desempenho\n",
        "print(classification_report(y_test, y_pred))\n"
      ],
      "metadata": {
        "id": "ZXAAlJnKhnoN",
        "colab": {
          "base_uri": "https://localhost:8080/"
        },
        "outputId": "4a71ad85-abea-4ff6-b628-0b681fd22244"
      },
      "execution_count": 5,
      "outputs": [
        {
          "output_type": "stream",
          "name": "stdout",
          "text": [
            "Acurácia do modelo: 88.71%\n",
            "              precision    recall  f1-score   support\n",
            "\n",
            "           0       0.89      0.88      0.89    200000\n",
            "           1       0.88      0.89      0.89    200000\n",
            "\n",
            "    accuracy                           0.89    400000\n",
            "   macro avg       0.89      0.89      0.89    400000\n",
            "weighted avg       0.89      0.89      0.89    400000\n",
            "\n"
          ]
        }
      ]
    },
    {
      "cell_type": "code",
      "source": [
        "print(\"Primeiras previsões:\", y_pred[:5])"
      ],
      "metadata": {
        "id": "3QcvO9CnX0Ju",
        "colab": {
          "base_uri": "https://localhost:8080/"
        },
        "outputId": "24be4db1-2aa6-4a0a-9963-9b05945abe2d"
      },
      "execution_count": 6,
      "outputs": [
        {
          "output_type": "stream",
          "name": "stdout",
          "text": [
            "Primeiras previsões: [1 1 0 0 1]\n"
          ]
        }
      ]
    },
    {
      "cell_type": "code",
      "source": [],
      "metadata": {
        "id": "lJsGCw8fJG2U"
      },
      "execution_count": 6,
      "outputs": []
    }
  ]
}